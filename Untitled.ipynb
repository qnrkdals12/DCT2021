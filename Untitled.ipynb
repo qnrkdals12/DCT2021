{
 "cells": [
  {
   "cell_type": "code",
   "execution_count": null,
   "id": "1cb33ad3-ebfc-438a-a3a0-0a4e8c73fd10",
   "metadata": {},
   "outputs": [],
   "source": [
    "import glob\n",
    "import pandas as pd\n",
    "import time\n",
    "from geopy.geocoders import Nominatim\n",
    "from tqdm import tqdm"
   ]
  },
  {
   "cell_type": "code",
   "execution_count": null,
   "id": "7df5fa96-3b08-4342-8aa9-74c62420c907",
   "metadata": {},
   "outputs": [],
   "source": [
    "nm = Nominatim(user_agent=\"Bu08\")\n",
    "fileList = glob.glob(\"speech recognition.xlsx\")\n",
    "fileList.sort()\n",
    "\n",
    "for file in fileList:\n",
    "    fileDF = pd.read_excel(file)\n",
    "    fileDF = fileDF.iloc[:, :8] # 칼럼들이 이상하게 많은 경우가 있음\n",
    "    fileDF[\"country\"] = \"\"\n",
    "    print(len(fileDF), file)\n",
    "    for row in fileDF.itertuples():\n",
    "        time.sleep(1)\n",
    "        try:\n",
    "            place, (lat, lng) = nm.geocode(row.location)\n",
    "            country = place.split(\",\")[-1].strip()\n",
    "        except:\n",
    "            country = None\n",
    "        fileDF.at[row.Index, \"country\"] = country\n",
    "        print(row.location, \"\\t\", country, flush=True)\n",
    "    fileDF.to_excel(file.replace(\".xlsx\", \"-country.xlsx\"))"
   ]
  },
  {
   "cell_type": "code",
   "execution_count": null,
   "id": "cbf2120f-83f2-4a7c-bda8-fcd806a4a7b3",
   "metadata": {},
   "outputs": [],
   "source": []
  }
 ],
 "metadata": {
  "kernelspec": {
   "display_name": "Python 3",
   "language": "python",
   "name": "python3"
  },
  "language_info": {
   "codemirror_mode": {
    "name": "ipython",
    "version": 3
   },
   "file_extension": ".py",
   "mimetype": "text/x-python",
   "name": "python",
   "nbconvert_exporter": "python",
   "pygments_lexer": "ipython3",
   "version": "3.8.8"
  }
 },
 "nbformat": 4,
 "nbformat_minor": 5
}
