{
 "cells": [
  {
   "cell_type": "code",
   "execution_count": null,
   "id": "1409767a-8827-45d5-bd24-eac43f4c0162",
   "metadata": {},
   "outputs": [],
   "source": [
    "from geopy.geocoders import Nominatim\n",
    "import pandas as pd\n",
    "import time\n",
    "from tqdm import tqdm"
   ]
  },
  {
   "cell_type": "code",
   "execution_count": null,
   "id": "54d82f63-8bad-4636-90b9-dfc751644e77",
   "metadata": {},
   "outputs": [],
   "source": [
    "file_names = [\"self driving.csv\", \"speech recognition.csv\", \"supervised learning.csv\"]\n",
    "\n",
    "df = pd.read_csv(file_names[0], encoding=\"utf-8-sig\")"
   ]
  },
  {
   "cell_type": "code",
   "execution_count": null,
   "id": "5e82e7c4-4309-4765-874b-259a56d7ad13",
   "metadata": {},
   "outputs": [],
   "source": [
    "user_agents = []\n",
    "\n",
    "for i in range(10):\n",
    "    s = \"Bu\"\n",
    "    user_agents.append(s + str(i))"
   ]
  },
  {
   "cell_type": "code",
   "execution_count": null,
   "id": "d82a2aa8-b83b-4458-9c0f-6d0925b99001",
   "metadata": {},
   "outputs": [],
   "source": [
    "nm = Nominatim(user_agent=user_agents[0])"
   ]
  },
  {
   "cell_type": "code",
   "execution_count": null,
   "id": "cf9703e8-a953-48af-9c0e-d3d71658c316",
   "metadata": {},
   "outputs": [],
   "source": [
    "countries = []\n",
    "\n",
    "for each_loc in tqdm(df['location']):\n",
    "    try:        \n",
    "        place, (lat, lng) = nm.geocode(each_loc)\n",
    "        country = place.split(\", \")[-1]\n",
    "        countries.append(country)\n",
    "    except:\n",
    "        print(each_loc)\n",
    "        countries.append('pass')\n",
    "    time.sleep(1)"
   ]
  },
  {
   "cell_type": "code",
   "execution_count": null,
   "id": "54100569-078b-403c-b747-3ed9328f3f89",
   "metadata": {},
   "outputs": [],
   "source": [
    "df[\"country\"] = countries\n",
    "df.to_csv(file_names, encoding=\"utf-8-sig\")"
   ]
  }
 ],
 "metadata": {
  "kernelspec": {
   "display_name": "Python 3",
   "language": "python",
   "name": "python3"
  },
  "language_info": {
   "codemirror_mode": {
    "name": "ipython",
    "version": 3
   },
   "file_extension": ".py",
   "mimetype": "text/x-python",
   "name": "python",
   "nbconvert_exporter": "python",
   "pygments_lexer": "ipython3",
   "version": "3.8.8"
  }
 },
 "nbformat": 4,
 "nbformat_minor": 5
}
