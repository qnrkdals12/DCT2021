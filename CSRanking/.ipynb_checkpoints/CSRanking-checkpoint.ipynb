{
 "cells": [
  {
   "cell_type": "code",
   "execution_count": 105,
   "id": "2b17c9d8-25ca-4ddc-8a0a-2edf3c5e37d2",
   "metadata": {},
   "outputs": [],
   "source": [
    "from bs4 import BeautifulSoup\n",
    "import pandas as pd"
   ]
  },
  {
   "cell_type": "code",
   "execution_count": 80,
   "id": "c1faeef9-ba01-467c-b916-9cac5d608db2",
   "metadata": {},
   "outputs": [],
   "source": [
    "page = open('SouthKorea.html', 'rt', encoding='utf-8').read() # HTML 파일 읽고 문자열 리턴\n",
    "soup = BeautifulSoup(page, 'html.parser')"
   ]
  },
  {
   "cell_type": "code",
   "execution_count": 100,
   "id": "9618fb54-eca9-4a58-94a1-d0ce12301dfd",
   "metadata": {},
   "outputs": [],
   "source": [
    "tr = soup.find('tr')\n",
    "trs = tr.find_next_siblings()\n",
    "univs = []\n",
    "first_spans = tr.find_all(\"span\")\n",
    "first_span = first_spans[1].get_text(strip = True)\n",
    "univs.append(first_span)"
   ]
  },
  {
   "cell_type": "code",
   "execution_count": 101,
   "id": "a1c73964-6624-4b2b-8baa-86f22407925f",
   "metadata": {},
   "outputs": [],
   "source": [
    "counts = []\n",
    "score = tr.find(\"td\",{\"align\":\"right\"})\n",
    "counts.append(score.get_text(strip = True))"
   ]
  },
  {
   "cell_type": "code",
   "execution_count": 102,
   "id": "4d007a9b-2d64-4e72-87e5-d0a081f66f37",
   "metadata": {},
   "outputs": [],
   "source": [
    "faculties = []\n",
    "fa = score.find_next_sibling()\n",
    "faculties.append(fa.get_text(strip = True))"
   ]
  },
  {
   "cell_type": "code",
   "execution_count": 103,
   "id": "7a3f4469-74f5-47ae-945b-7457c55f8712",
   "metadata": {},
   "outputs": [],
   "source": [
    "counter = 0\n",
    "for k in trs:\n",
    "    if counter % 3 == 2:\n",
    "        spans = k.find_all(\"span\")\n",
    "        name = spans[1].get_text(strip = True)\n",
    "        univs.append(name)\n",
    "        count = k.find(\"td\",{\"align\":\"right\"})\n",
    "        counts.append(count.get_text(strip = True))\n",
    "        facu = count.find_next_sibling()\n",
    "        faculties.append(facu.get_text(strip = True))\n",
    "    counter = counter + 1"
   ]
  },
  {
   "cell_type": "code",
   "execution_count": 104,
   "id": "cf10cd77-b5ae-49d7-9e88-fafbef9c4034",
   "metadata": {},
   "outputs": [
    {
     "name": "stdout",
     "output_type": "stream",
     "text": [
      "['KAIST', 'Seoul National University', 'POSTECH', 'UNIST', 'Yonsei University', 'Korea University', 'Hanyang University', 'Kyung Hee University', 'Kyungpook National University']\n",
      "['28', '16', '7', '8', '7', '5', '2', '1', '1']\n",
      "['5.6', '3.2', '1.9', '1.6', '1.6', '1.5', '1.1', '1.0', '1.0']\n"
     ]
    }
   ],
   "source": [
    "print(univs)\n",
    "print(faculties)\n",
    "print(counts)"
   ]
  },
  {
   "cell_type": "code",
   "execution_count": 106,
   "id": "4d2bca61-0333-4447-aa96-132feaa224fe",
   "metadata": {},
   "outputs": [],
   "source": [
    "total = []\n",
    "for i in range(len(univs)):\n",
    "    eachtotal = [univs[i], counts[i], faculties[i]]\n",
    "    total.append(eachtotal)"
   ]
  },
  {
   "cell_type": "code",
   "execution_count": 107,
   "id": "25d0be5c-1828-48b1-8833-5b3d9ac9ee78",
   "metadata": {},
   "outputs": [
    {
     "data": {
      "text/plain": [
       "[['KAIST', '5.6', '28'],\n",
       " ['Seoul National University', '3.2', '16'],\n",
       " ['POSTECH', '1.9', '7'],\n",
       " ['UNIST', '1.6', '8'],\n",
       " ['Yonsei University', '1.6', '7'],\n",
       " ['Korea University', '1.5', '5'],\n",
       " ['Hanyang University', '1.1', '2'],\n",
       " ['Kyung Hee University', '1.0', '1'],\n",
       " ['Kyungpook National University', '1.0', '1']]"
      ]
     },
     "execution_count": 107,
     "metadata": {},
     "output_type": "execute_result"
    }
   ],
   "source": [
    "total"
   ]
  },
  {
   "cell_type": "code",
   "execution_count": 108,
   "id": "43058f4e-0b27-45d8-99d5-10a80a673ffd",
   "metadata": {},
   "outputs": [],
   "source": [
    "total_df = pd.DataFrame(total, columns=['Institution', 'Count', 'Faculty'])"
   ]
  },
  {
   "cell_type": "code",
   "execution_count": 109,
   "id": "bc898ed2-005f-499e-97cb-72ace5235561",
   "metadata": {},
   "outputs": [
    {
     "data": {
      "text/html": [
       "<div>\n",
       "<style scoped>\n",
       "    .dataframe tbody tr th:only-of-type {\n",
       "        vertical-align: middle;\n",
       "    }\n",
       "\n",
       "    .dataframe tbody tr th {\n",
       "        vertical-align: top;\n",
       "    }\n",
       "\n",
       "    .dataframe thead th {\n",
       "        text-align: right;\n",
       "    }\n",
       "</style>\n",
       "<table border=\"1\" class=\"dataframe\">\n",
       "  <thead>\n",
       "    <tr style=\"text-align: right;\">\n",
       "      <th></th>\n",
       "      <th>Institution</th>\n",
       "      <th>Count</th>\n",
       "      <th>Faculty</th>\n",
       "    </tr>\n",
       "  </thead>\n",
       "  <tbody>\n",
       "    <tr>\n",
       "      <th>0</th>\n",
       "      <td>KAIST</td>\n",
       "      <td>5.6</td>\n",
       "      <td>28</td>\n",
       "    </tr>\n",
       "    <tr>\n",
       "      <th>1</th>\n",
       "      <td>Seoul National University</td>\n",
       "      <td>3.2</td>\n",
       "      <td>16</td>\n",
       "    </tr>\n",
       "    <tr>\n",
       "      <th>2</th>\n",
       "      <td>POSTECH</td>\n",
       "      <td>1.9</td>\n",
       "      <td>7</td>\n",
       "    </tr>\n",
       "    <tr>\n",
       "      <th>3</th>\n",
       "      <td>UNIST</td>\n",
       "      <td>1.6</td>\n",
       "      <td>8</td>\n",
       "    </tr>\n",
       "    <tr>\n",
       "      <th>4</th>\n",
       "      <td>Yonsei University</td>\n",
       "      <td>1.6</td>\n",
       "      <td>7</td>\n",
       "    </tr>\n",
       "    <tr>\n",
       "      <th>5</th>\n",
       "      <td>Korea University</td>\n",
       "      <td>1.5</td>\n",
       "      <td>5</td>\n",
       "    </tr>\n",
       "    <tr>\n",
       "      <th>6</th>\n",
       "      <td>Hanyang University</td>\n",
       "      <td>1.1</td>\n",
       "      <td>2</td>\n",
       "    </tr>\n",
       "    <tr>\n",
       "      <th>7</th>\n",
       "      <td>Kyung Hee University</td>\n",
       "      <td>1.0</td>\n",
       "      <td>1</td>\n",
       "    </tr>\n",
       "    <tr>\n",
       "      <th>8</th>\n",
       "      <td>Kyungpook National University</td>\n",
       "      <td>1.0</td>\n",
       "      <td>1</td>\n",
       "    </tr>\n",
       "  </tbody>\n",
       "</table>\n",
       "</div>"
      ],
      "text/plain": [
       "                     Institution Count Faculty\n",
       "0                          KAIST   5.6      28\n",
       "1      Seoul National University   3.2      16\n",
       "2                        POSTECH   1.9       7\n",
       "3                          UNIST   1.6       8\n",
       "4              Yonsei University   1.6       7\n",
       "5               Korea University   1.5       5\n",
       "6             Hanyang University   1.1       2\n",
       "7           Kyung Hee University   1.0       1\n",
       "8  Kyungpook National University   1.0       1"
      ]
     },
     "execution_count": 109,
     "metadata": {},
     "output_type": "execute_result"
    }
   ],
   "source": [
    "total_df"
   ]
  },
  {
   "cell_type": "code",
   "execution_count": 110,
   "id": "c8ac5735-8170-47d9-959f-de224759ffda",
   "metadata": {},
   "outputs": [],
   "source": [
    "save_fname = 'Institution_list_SouthKorea'\n",
    "total_df.to_csv(save_fname, encoding='utf-8-sig')"
   ]
  },
  {
   "cell_type": "code",
   "execution_count": null,
   "id": "929d3fb0-3d14-4e75-9087-1829fb35d355",
   "metadata": {},
   "outputs": [],
   "source": []
  }
 ],
 "metadata": {
  "kernelspec": {
   "display_name": "Python 3",
   "language": "python",
   "name": "python3"
  },
  "language_info": {
   "codemirror_mode": {
    "name": "ipython",
    "version": 3
   },
   "file_extension": ".py",
   "mimetype": "text/x-python",
   "name": "python",
   "nbconvert_exporter": "python",
   "pygments_lexer": "ipython3",
   "version": "3.8.8"
  }
 },
 "nbformat": 4,
 "nbformat_minor": 5
}
