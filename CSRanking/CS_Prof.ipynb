{
 "cells": [
  {
   "cell_type": "code",
   "execution_count": 62,
   "id": "fac0c371-bbcb-4f12-a604-2302190ee94f",
   "metadata": {},
   "outputs": [],
   "source": [
    "from bs4 import BeautifulSoup"
   ]
  },
  {
   "cell_type": "code",
   "execution_count": 63,
   "id": "5a1971fb-d918-4bb1-ab97-5a15a720f96a",
   "metadata": {},
   "outputs": [],
   "source": [
    "page = open('SouthKorea.html', 'rt', encoding='utf-8').read() # HTML 파일 읽고 문자열 리턴\n",
    "soup = BeautifulSoup(page, 'html.parser')"
   ]
  },
  {
   "cell_type": "code",
   "execution_count": 86,
   "id": "2cee6687-dc96-43ee-bf80-9aba0518d4e5",
   "metadata": {},
   "outputs": [],
   "source": [
    "tables = soup.find_all(\"table\")"
   ]
  },
  {
   "cell_type": "code",
   "execution_count": 87,
   "id": "65d70087-bda6-4172-9f37-e1051dd6af80",
   "metadata": {},
   "outputs": [],
   "source": [
    "names = []\n",
    "counts = []\n",
    "faculties = []"
   ]
  },
  {
   "cell_type": "code",
   "execution_count": 88,
   "id": "b891eabf-bd48-4c2a-bc48-7fc2919464f6",
   "metadata": {},
   "outputs": [],
   "source": [
    "for table in tables:\n",
    "    each = table.find(\"tbody\")\n",
    "    \n",
    "    first_prof = each.find(\"tr\")\n",
    "    professors = first_prof.find_next_siblings()\n",
    "    \n",
    "    name1 = first_prof.find(\"small\").find(\"a\")\n",
    "    count1 = first_prof.find(\"td\",{\"align\":\"right\"})\n",
    "    facu1 = count1.find_next_sibling()\n",
    "    \n",
    "    names.append(name1.get_text())\n",
    "    counts.append(count1.get_text())\n",
    "    faculties.append(facu1.get_text())\n",
    "    \n",
    "    counter = 0\n",
    "    \n",
    "    for prof in professors:\n",
    "        if counter % 2 == 1:\n",
    "            name = prof.find(\"small\").find(\"a\")\n",
    "            count = prof.find(\"td\",{\"align\":\"right\"})\n",
    "            facu = count.find_next_sibling()\n",
    "            names.append(name.get_text())\n",
    "            counts.append(count.get_text())\n",
    "            faculties.append(facu.get_text())\n",
    "        counter = counter + 1"
   ]
  },
  {
   "cell_type": "code",
   "execution_count": 89,
   "id": "229cd990-15f7-4016-9747-99efc00103fb",
   "metadata": {},
   "outputs": [
    {
     "data": {
      "text/plain": [
       "75"
      ]
     },
     "execution_count": 89,
     "metadata": {},
     "output_type": "execute_result"
    }
   ],
   "source": [
    "len(names)"
   ]
  },
  {
   "cell_type": "code",
   "execution_count": null,
   "id": "f567fbb2-76c8-46f2-8a87-af1577be8896",
   "metadata": {},
   "outputs": [],
   "source": []
  }
 ],
 "metadata": {
  "kernelspec": {
   "display_name": "Python 3",
   "language": "python",
   "name": "python3"
  },
  "language_info": {
   "codemirror_mode": {
    "name": "ipython",
    "version": 3
   },
   "file_extension": ".py",
   "mimetype": "text/x-python",
   "name": "python",
   "nbconvert_exporter": "python",
   "pygments_lexer": "ipython3",
   "version": "3.8.8"
  }
 },
 "nbformat": 4,
 "nbformat_minor": 5
}
