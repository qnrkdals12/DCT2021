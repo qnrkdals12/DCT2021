{
 "cells": [
  {
   "cell_type": "code",
   "execution_count": null,
   "id": "65361946-636a-4cdd-b494-5def87a3c7b1",
   "metadata": {},
   "outputs": [],
   "source": [
    "from geopy.geocoders import Nominatim\n",
    "nm = Nominatim(user_agent=\"Bu\")\n",
    "place, (lat, lng) = nm.geocode(\"Earth...\")\n",
    "print('Country: ' + place.split(\", \")[-1])\n",
    "place"
   ]
  }
 ],
 "metadata": {
  "kernelspec": {
   "display_name": "Python 3",
   "language": "python",
   "name": "python3"
  },
  "language_info": {
   "codemirror_mode": {
    "name": "ipython",
    "version": 3
   },
   "file_extension": ".py",
   "mimetype": "text/x-python",
   "name": "python",
   "nbconvert_exporter": "python",
   "pygments_lexer": "ipython3",
   "version": "3.8.8"
  }
 },
 "nbformat": 4,
 "nbformat_minor": 5
}
