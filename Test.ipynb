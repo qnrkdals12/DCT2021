{
 "cells": [
  {
   "cell_type": "code",
   "execution_count": 1,
   "id": "1ba271ba-cf3c-4265-a764-2378921cbe77",
   "metadata": {},
   "outputs": [],
   "source": [
    "import pandas as pd\n",
    "import glob\n",
    "from tqdm import tqdm"
   ]
  },
  {
   "cell_type": "code",
   "execution_count": 2,
   "id": "d5056de5-59ee-4e97-99bd-bdc50f387421",
   "metadata": {},
   "outputs": [],
   "source": [
    "file_names = [\"deep learning total-country.xlsx\", \"face recognition total-country.xlsx\", \"facial recognition total-country.xlsx\",\n",
    "              \"image recognition total-country.xlsx\", \"natural language processing-country.xlsx\", \"neural networks-country.xlsx\",\n",
    "              \"predictive_analytics-country.xlsx\", \"reinforcement learning-country.xlsx\", \"speech recognition-country.xlsx\",\n",
    "              \"supervised learning-country.xlsx\"]\n",
    "\n",
    "countries = [\"中国\", \"United States\", \"日本\", \"Canada\", \"대한민국\", \"Deutschland\", \"France\", \"United Kingdom\"]\n",
    "\n",
    "China = []\n",
    "USA = []\n",
    "Japan = []\n",
    "Canada = []\n",
    "Korea = []\n",
    "Germany = []\n",
    "France = []\n",
    "UK = []\n",
    "\n",
    "result = [China, USA, Japan, Canada, Korea, Germany, France, UK]"
   ]
  },
  {
   "cell_type": "code",
   "execution_count": 3,
   "id": "e24dc4fc-42d2-4072-9f73-23764a331a53",
   "metadata": {},
   "outputs": [],
   "source": [
    "def read_file(file_name):\n",
    "    fileDF = pd.read_excel(file_name)\n",
    "    return fileDF"
   ]
  },
  {
   "cell_type": "code",
   "execution_count": 4,
   "id": "847f3887-f0c8-4ef3-8c71-fccd385bffa4",
   "metadata": {},
   "outputs": [],
   "source": [
    "def sort_country(data_frame):\n",
    "    for row in tqdm(data_frame.itertuples()):\n",
    "        if row[10] in countries:\n",
    "            index = countries.index(row[10])\n",
    "        else:\n",
    "            index = -1\n",
    "\n",
    "    for country in result:\n",
    "        if index == result.index(country):\n",
    "            country.append(row)"
   ]
  },
  {
   "cell_type": "code",
   "execution_count": 5,
   "id": "c7543f98-a07d-4221-b88e-d9ce794a8566",
   "metadata": {},
   "outputs": [],
   "source": [
    "def make_excel(list):\n",
    "    count = 0\n",
    "    for country in list:\n",
    "        df_coun = pd.DataFrame(country)\n",
    "        df_coun.to_excel(countries[count] + \".xlsx\", encoding=\"utf-8-sig\")\n",
    "        count = count + 1"
   ]
  },
  {
   "cell_type": "code",
   "execution_count": null,
   "id": "7f686b13-a0c8-4aec-aae8-ca9566e99c49",
   "metadata": {},
   "outputs": [],
   "source": [
    "file_list = glob.glob(\"/Users/bugangmin/PycharmProjects/Intern/Github/*.xlsx\")\n",
    "\n",
    "for file in file_names:\n",
    "    df = read_file(file)\n",
    "    sort_country(df)\n",
    "make_excel(result)"
   ]
  },
  {
   "cell_type": "code",
   "execution_count": 6,
   "id": "6a962c63-521f-4ad4-a6bc-af267f8ec891",
   "metadata": {},
   "outputs": [
    {
     "name": "stderr",
     "output_type": "stream",
     "text": [
      "13313it [00:00, 640940.88it/s]"
     ]
    },
    {
     "name": "stdout",
     "output_type": "stream",
     "text": [
      "0\n"
     ]
    },
    {
     "name": "stderr",
     "output_type": "stream",
     "text": [
      "\n"
     ]
    }
   ],
   "source": [
    "df = read_file(file_names[0])\n",
    "sort_country(df)\n",
    "print(len(China))"
   ]
  },
  {
   "cell_type": "code",
   "execution_count": null,
   "id": "f1235f9a-9edb-4737-9b84-7b5fdd45c293",
   "metadata": {},
   "outputs": [],
   "source": [
    "final = []\n",
    "for file in file_names:\n",
    "    "
   ]
  }
 ],
 "metadata": {
  "kernelspec": {
   "display_name": "Python 3",
   "language": "python",
   "name": "python3"
  },
  "language_info": {
   "codemirror_mode": {
    "name": "ipython",
    "version": 3
   },
   "file_extension": ".py",
   "mimetype": "text/x-python",
   "name": "python",
   "nbconvert_exporter": "python",
   "pygments_lexer": "ipython3",
   "version": "3.8.8"
  }
 },
 "nbformat": 4,
 "nbformat_minor": 5
}
